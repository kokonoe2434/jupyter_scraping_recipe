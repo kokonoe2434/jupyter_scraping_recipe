{
 "cells": [
  {
   "cell_type": "code",
   "execution_count": 2,
   "metadata": {},
   "outputs": [
    {
     "name": "stdout",
     "output_type": "stream",
     "text": [
      "Collecting selenium\n",
      "  Downloading selenium-3.141.0-py2.py3-none-any.whl (904 kB)\n",
      "Requirement already satisfied: urllib3 in d:\\install\\anaconda\\lib\\site-packages (from selenium) (1.25.9)\n",
      "Installing collected packages: selenium\n",
      "Successfully installed selenium-3.141.0\n"
     ]
    }
   ],
   "source": [
    "!pip install selenium"
   ]
  },
  {
   "cell_type": "code",
   "execution_count": 3,
   "metadata": {},
   "outputs": [
    {
     "name": "stdout",
     "output_type": "stream",
     "text": [
      "Requirement already satisfied: beautifulsoup4 in d:\\install\\anaconda\\lib\\site-packages (4.9.1)\n",
      "Requirement already satisfied: soupsieve>1.2 in d:\\install\\anaconda\\lib\\site-packages (from beautifulsoup4) (2.0.1)\n"
     ]
    }
   ],
   "source": [
    "!pip install beautifulsoup4"
   ]
  },
  {
   "cell_type": "code",
   "execution_count": 5,
   "metadata": {},
   "outputs": [
    {
     "name": "stdout",
     "output_type": "stream",
     "text": [
      "Requirement already satisfied: chromedriver-binary in d:\\install\\anaconda\\lib\\site-packages (86.0.4240.22.0)\n"
     ]
    }
   ],
   "source": [
    "!pip install chromedriver-binary"
   ]
  },
  {
   "cell_type": "code",
   "execution_count": 6,
   "metadata": {},
   "outputs": [
    {
     "name": "stdout",
     "output_type": "stream",
     "text": [
      "終了\n"
     ]
    }
   ],
   "source": [
    "from selenium import webdriver\n",
    "from selenium.webdriver.common.keys import Keys\n",
    "from selenium.webdriver.chrome.options import Options\n",
    "from bs4 import BeautifulSoup\n",
    "import time\n",
    "import pandas as pd\n",
    "import urllib.request as req\n",
    "import chromedriver_binary\n",
    "print(\"終了\")"
   ]
  },
  {
   "cell_type": "code",
   "execution_count": 9,
   "metadata": {},
   "outputs": [
    {
     "name": "stdout",
     "output_type": "stream",
     "text": [
      "thumbnails_tags:3\n",
      "  span_tags:28\n",
      "    https://member.productioncrate.com/download.php?title=FootageCrate-Turbulent_Snow_3\n",
      "    https://member.productioncrate.com/download.php?title=FootageCrate-Snow_Drop_4\n",
      "    https://member.productioncrate.com/download.php?title=FootageCrate-Snow_Drop_3\n",
      "    https://member.productioncrate.com/download.php?title=Footagecrate-Looping_Snow_Drop_1\n",
      "    https://member.productioncrate.com/download.php?title=FootageCrate-Snow_Drop_2\n",
      "終了\n"
     ]
    }
   ],
   "source": [
    "options = Options()\n",
    "options.add_argument('--headless')\n",
    "#browser = webdriver.Chrome(executable_path = 'C:\\\\Users\\\\yhata\\\\Desktop\\\\pg_work\\\\pandas\\\\chromedriver.exe', options = options)\n",
    "browser = webdriver.Chrome(executable_path = 'C:\\\\Users\\\\yhata\\\\Desktop\\\\pg_work\\\\pandas\\\\chromedriver.exe')\n",
    "browser.implicitly_wait(3)\n",
    "url = 'https://footagecrate.com/natural-elements.html'\n",
    "#url = 'https://techacademy.jp/magazine/28002'\n",
    "browser.get(url)\n",
    "browser.maximize_window()\n",
    "time.sleep(3)\n",
    "for i in range(5):\n",
    "    time.sleep(1)\n",
    "    for i in range(100):\n",
    "        browser.find_element_by_tag_name('body').send_keys(Keys.DOWN)\n",
    "    for i in range(40):\n",
    "        browser.find_element_by_tag_name('body').send_keys(Keys.UP)\n",
    "thumbnails_tags = browser.find_elements_by_class_name('thumbnails')\n",
    "print(\"thumbnails_tags:\" + str(len(thumbnails_tags)))\n",
    "pro_tags = thumbnails_tags[0].find_elements_by_css_selector('.pro')\n",
    "pro_lists = []\n",
    "for i in pro_tags:\n",
    "    a_tags = i.find_elements_by_tag_name('a')\n",
    "    for j in a_tags:\n",
    "        href_attr = j.get_attribute('href')\n",
    "        if href_attr.find('download.php?') != -1:\n",
    "            pro_lists.append(href_attr)\n",
    "\n",
    "span_tags = thumbnails_tags[0].find_elements_by_css_selector('.panel.preview')\n",
    "print(\"  span_tags:\" + str(len(span_tags)))\n",
    "for i in span_tags:\n",
    "    a_tags = i.find_elements_by_tag_name('a')\n",
    "    for j in a_tags:\n",
    "        href_attr = j.get_attribute('href')\n",
    "        if href_attr.find('download.php?') != -1:\n",
    "            isExist = ''\n",
    "            for k in pro_lists:\n",
    "                if k == href_attr:\n",
    "                    isExist = 'Exist'\n",
    "                    break\n",
    "            if isExist != 'Exist':\n",
    "                print(\"    \" + href_attr)\n",
    "            break\n",
    "browser.close()\n",
    "print(\"終了\")\n",
    "#resp = req.urlopen(url)\n",
    "#html = resp.read().decode(resp.headers.get_content_charset(), errors='ignore')\n",
    "#parse_html = BeautifulSoup(html, 'html.parser')\n",
    "#parse_html"
   ]
  },
  {
   "cell_type": "code",
   "execution_count": null,
   "metadata": {},
   "outputs": [],
   "source": []
  }
 ],
 "metadata": {
  "kernelspec": {
   "display_name": "Python 3",
   "language": "python",
   "name": "python3"
  },
  "language_info": {
   "codemirror_mode": {
    "name": "ipython",
    "version": 3
   },
   "file_extension": ".py",
   "mimetype": "text/x-python",
   "name": "python",
   "nbconvert_exporter": "python",
   "pygments_lexer": "ipython3",
   "version": "3.8.3"
  }
 },
 "nbformat": 4,
 "nbformat_minor": 4
}
