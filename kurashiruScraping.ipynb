{
 "cells": [
  {
   "cell_type": "code",
   "execution_count": 25,
   "metadata": {},
   "outputs": [
    {
     "name": "stdout",
     "output_type": "stream",
     "text": [
      "Requirement already satisfied: selenium in d:\\install\\anaconda\\lib\\site-packages (3.141.0)\n",
      "Requirement already satisfied: urllib3 in d:\\install\\anaconda\\lib\\site-packages (from selenium) (1.25.9)\n",
      "Requirement already satisfied: beautifulsoup4 in d:\\install\\anaconda\\lib\\site-packages (4.9.1)\n",
      "Requirement already satisfied: soupsieve>1.2 in d:\\install\\anaconda\\lib\\site-packages (from beautifulsoup4) (2.0.1)\n",
      "Requirement already satisfied: chromedriver-binary in d:\\install\\anaconda\\lib\\site-packages (86.0.4240.22.0)\n"
     ]
    }
   ],
   "source": [
    "!pip install selenium\n",
    "!pip install beautifulsoup4\n",
    "!pip install chromedriver-binary"
   ]
  },
  {
   "cell_type": "code",
   "execution_count": 26,
   "metadata": {},
   "outputs": [
    {
     "name": "stdout",
     "output_type": "stream",
     "text": [
      "終了\n"
     ]
    }
   ],
   "source": [
    "# coding: UTF-8\n",
    "from selenium import webdriver\n",
    "from selenium.webdriver.common.keys import Keys\n",
    "from selenium.webdriver.chrome.options import Options\n",
    "from bs4 import BeautifulSoup\n",
    "import os\n",
    "import datetime\n",
    "import time\n",
    "import pandas as pd\n",
    "import urllib.request as req\n",
    "import chromedriver_binary\n",
    "print(\"終了\")"
   ]
  },
  {
   "cell_type": "code",
   "execution_count": null,
   "metadata": {},
   "outputs": [],
   "source": [
    "options = Options()\n",
    "options.add_argument('--headless')\n",
    "browser = webdriver.Chrome(executable_path = 'C:\\\\Users\\\\yhata\\\\Desktop\\\\pgwork\\\\python\\\\pandas\\\\chromedriver.exe')\n",
    "browser.implicitly_wait(3)\n",
    "baseDir = 'D:\\\\素材\\\\Scraping\\\\kurashiru\\\\'\n",
    "url = 'https://cookpad.com/recipe/'\n",
    "print(datetime.datetime.now())\n",
    "for count in range(1000001, 1010000):\n",
    "    if count % 10000 == 1:\n",
    "        if not os.path.isdir(baseDir + str(count)):\n",
    "            os.mkdir(baseDir + str(count))\n",
    "        oDir = baseDir + str(count) + '\\\\'\n",
    "    if os.path.isfile(oDir + str(count) + '.txt'):\n",
    "        continue\n",
    "    time.sleep(1)\n",
    "    browser.get(url + str(count).zfill(8))\n",
    "    div_tag = browser.find_elements_by_id('not_found_message')\n",
    "    if 0 < len(div_tag):\n",
    "        continue\n",
    "    recipe_tag = browser.find_element_by_id('recipe-main')\n",
    "    steps_tag = browser.find_element_by_id('steps')\n",
    "    with open(oDir + str(count) + '.txt', 'w', encoding='UTF-8') as f:\n",
    "        print(recipe_tag.get_attribute('outerHTML'), file=f)\n",
    "        print(steps_tag.get_attribute('outerHTML'), file=f)\n",
    "browser.close()\n",
    "print(datetime.datetime.now())\n",
    "print(\"終了\")"
   ]
  }
 ],
 "metadata": {
  "kernelspec": {
   "display_name": "Python 3",
   "language": "python",
   "name": "python3"
  },
  "language_info": {
   "codemirror_mode": {
    "name": "ipython",
    "version": 3
   },
   "file_extension": ".py",
   "mimetype": "text/x-python",
   "name": "python",
   "nbconvert_exporter": "python",
   "pygments_lexer": "ipython3",
   "version": "3.8.3"
  }
 },
 "nbformat": 4,
 "nbformat_minor": 4
}
