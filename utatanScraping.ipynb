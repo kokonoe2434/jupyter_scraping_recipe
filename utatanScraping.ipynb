{
 "cells": [
  {
   "cell_type": "code",
   "execution_count": null,
   "metadata": {},
   "outputs": [],
   "source": [
    "!pip install selenium\n",
    "!pip install beautifulsoup4\n",
    "!pip install chromedriver-binary\n",
    "!pip install pandas\n",
    "!pip install requests\n",
    "import requests\n",
    "from bs4 import BeautifulSoup, NavigableString"
   ]
  },
  {
   "cell_type": "code",
   "execution_count": null,
   "metadata": {},
   "outputs": [],
   "source": [
    "r = requests.get('https://utaten.com/lyric/tu19073146/') \n",
    "data = BeautifulSoup(r.text, 'html.parser')\n",
    "elem = data.find(\"div\", class_=\"romaji\")\n",
    "# elem = data.find_all(\"div\", class_=\"romaji\")\n",
    "\n",
    "kashi_list_huri = []\n",
    "kashi_list_kaki = []\n",
    "for e in elem.children:\n",
    "    if e.name == 'br':\n",
    "        kashi_list_huri.append('\\n')\n",
    "        kashi_list_kaki.append('\\n')\n",
    "    elif type(e) is NavigableString:\n",
    "        pass\n",
    "    else:\n",
    "        elm_kashi_huri = e.find(\"span\", class_=\"rt\")\n",
    "        elm_kashi_kaki = e.find(\"span\", class_=\"rb\")\n",
    "        kashi_list_huri.append(elm_kashi_huri.text)\n",
    "        kashi_list_kaki.append(elm_kashi_kaki.text)\n",
    "\n",
    "kashi_list = zip(kashi_list_huri, kashi_list_kaki)\n",
    "count_start = 0\n",
    "count_end = 0\n",
    "print_huri = ''\n",
    "print_kaki = ''\n",
    "for huri in kashi_list_huri:\n",
    "    if huri == '\\n':\n",
    "        print(print_huri)\n",
    "        for idx in range(count_start, count_end):\n",
    "            print_kaki += kashi_list_kaki[idx]\n",
    "        print(print_kaki)\n",
    "        print_huri = ''\n",
    "        print_kaki = ''\n",
    "        count_start = count_end + 1\n",
    "    else:\n",
    "        print_huri += huri\n",
    "        count_end += 1\n",
    "print('終了')"
   ]
  },
  {
   "cell_type": "code",
   "execution_count": null,
   "metadata": {},
   "outputs": [],
   "source": []
  }
 ],
 "metadata": {
  "kernelspec": {
   "display_name": "Python 3.7 (XPython)",
   "language": "python",
   "name": "xpython"
  },
  "language_info": {
   "file_extension": ".py",
   "mimetype": "text/x-python",
   "name": "python",
   "version": "3.7.8"
  }
 },
 "nbformat": 4,
 "nbformat_minor": 4
}
